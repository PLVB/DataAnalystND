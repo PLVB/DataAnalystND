{
 "cells": [
  {
   "cell_type": "markdown",
   "metadata": {
    "collapsed": true
   },
   "source": [
    "# Simpson's Paradox\n",
    "Use `admission_data.csv` for this exercise."
   ]
  },
  {
   "cell_type": "code",
   "execution_count": 194,
   "metadata": {},
   "outputs": [
    {
     "name": "stdout",
     "output_type": "stream",
     "text": [
      "Female Count :257\n",
      "Male Count :243\n",
      "Females with Physics Major :31\n",
      "Males with Physics Major :31\n",
      "Females with Chemistry Major :226\n",
      "Males with Chemistry Major :18\n",
      "Females who got admission with Physics Major :31\n",
      "Males who got admission with Physics Major :116\n",
      "Females who got admission with Chemistry  Major :51\n",
      "Males who got admission with Chemistry Major :2\n",
      "Total admissions :192\n",
      "Total Physics admissions :256\n",
      "Total Chemistry admissions :244\n"
     ]
    }
   ],
   "source": [
    "# Load and view first few lines of dataset\n",
    "import pandas as pd\n",
    "import numpy as np\n",
    "df=pd.read_csv('admission_data.csv')\n",
    "df.head()\n",
    "\n",
    "femalecount=len([x for x in df[\"gender\"] if x == 'female'])\n",
    "malecount=sum(x == \"male\" for x in df[\"gender\"])\n",
    "Femalephysics=len(df[(df['gender']=='female') & (df['major']=='Physics')])\n",
    "Malephysics=len(df[(df['gender']=='male') & (df['major']=='Physics')])\n",
    "Femalephysicsadmit=len(df[(df['admitted']==True) & (df['gender']=='female') & (df['major']=='Physics')])\n",
    "Malephysicsadmit=len(df[(df['admitted']==True) & (df['gender']=='male') & (df['major']=='Physics')])\n",
    "Femalechemistry=len(df[(df['gender']=='female') & (df['major']=='Chemistry')])\n",
    "Malechemistry=len(df[(df['gender']=='male') & (df['major']=='Chemistry')])\n",
    "Femalechemistryadmit=len(df[(df['admitted']==True) & (df['gender']=='female') & (df['major']=='Chemistry')])\n",
    "Malechemistryadmit=len(df[(df['admitted']==True) & (df['gender']=='male') & (df['major']=='Chemistry')])\n",
    "Totadmissions=len(df[df['admitted']==True])\n",
    "Physicsadmissions=len(df[df['major']=='Physics'])\n",
    "Chemistryadmissions=len(df[df['major']=='Chemistry'])\n",
    "\n",
    "print(\"Female Count :\"+ str(femalecount))\n",
    "print(\"Male Count :\"+ str(malecount))\n",
    "print(\"Females with Physics Major :\"+ str(Femalephysics))\n",
    "print(\"Males with Physics Major :\"+ str(Femalephysics))\n",
    "print(\"Females with Chemistry Major :\"+ str(Femalechemistry))\n",
    "print(\"Males with Chemistry Major :\"+ str(Malechemistry))\n",
    "print(\"Females who got admission with Physics Major :\"+ str(Pfadmittedcount))\n",
    "print(\"Males who got admission with Physics Major :\"+ str(Malephysicsadmit))\n",
    "print(\"Females who got admission with Chemistry  Major :\"+ str(Femalechemistryadmit))\n",
    "print(\"Males who got admission with Chemistry Major :\"+ str(Malechemistryadmit))\n",
    "print(\"Total admissions :\"+str(Admitted))\n",
    "print(\"Total Physics admissions :\" +str(Padmittedcount))\n",
    "print(\"Total Chemistry admissions :\" +str(Cadmittedcount))\n",
    "\n",
    "\n"
   ]
  },
  {
   "cell_type": "markdown",
   "metadata": {},
   "source": [
    "### Proportion and admission rate for each gender"
   ]
  },
  {
   "cell_type": "code",
   "execution_count": 114,
   "metadata": {},
   "outputs": [
    {
     "name": "stdout",
     "output_type": "stream",
     "text": [
      "51.4\n"
     ]
    }
   ],
   "source": [
    "# Proportion of students that are female\n",
    "femaleportion=(femalecount/500)*100\n",
    "print(femaleportion)\n"
   ]
  },
  {
   "cell_type": "code",
   "execution_count": 115,
   "metadata": {},
   "outputs": [
    {
     "name": "stdout",
     "output_type": "stream",
     "text": [
      "48.6\n"
     ]
    }
   ],
   "source": [
    "# Proportion of students that are male\n",
    "maleportion=(malecount/500)*100\n",
    "print(maleportion)"
   ]
  },
  {
   "cell_type": "code",
   "execution_count": 116,
   "metadata": {},
   "outputs": [
    {
     "name": "stdout",
     "output_type": "stream",
     "text": [
      "28.793774319066145\n"
     ]
    }
   ],
   "source": [
    "# Admission rate for females\n",
    "femaleadmissionrate=(fadmittedcount/femalecount)*100\n",
    "print(femaleadmissionrate)\n"
   ]
  },
  {
   "cell_type": "code",
   "execution_count": 121,
   "metadata": {},
   "outputs": [
    {
     "name": "stdout",
     "output_type": "stream",
     "text": [
      "48.559670781893004\n"
     ]
    }
   ],
   "source": [
    "# Admission rate for males\n",
    "maleadmissionrate=(madmittedcount/malecount)*100\n",
    "print(maleadmissionrate)\n"
   ]
  },
  {
   "cell_type": "markdown",
   "metadata": {},
   "source": [
    "### Proportion and admission rate for physics majors of each gender"
   ]
  },
  {
   "cell_type": "code",
   "execution_count": 190,
   "metadata": {},
   "outputs": [
    {
     "name": "stdout",
     "output_type": "stream",
     "text": [
      "0.12062256809338522\n"
     ]
    }
   ],
   "source": [
    "# What proportion of female students are majoring in physics?\n",
    "portionofmaleswithPhysics=(Femalephysics/femalecount)\n",
    "print(portionofmaleswithPhysics)\n"
   ]
  },
  {
   "cell_type": "code",
   "execution_count": 168,
   "metadata": {},
   "outputs": [
    {
     "name": "stdout",
     "output_type": "stream",
     "text": [
      "0.9259259259259259\n"
     ]
    }
   ],
   "source": [
    "# What proportion of male students are majoring in physics?\n",
    "portionofmaleswithPhysics=(Malephysics/malecount)\n",
    "print(portionofmaleswithPhysics)\n"
   ]
  },
  {
   "cell_type": "code",
   "execution_count": 175,
   "metadata": {},
   "outputs": [
    {
     "name": "stdout",
     "output_type": "stream",
     "text": [
      "0.7419354838709677\n"
     ]
    }
   ],
   "source": [
    "# Admission rate for female physics majors\n",
    "adminrateFPhysics=(Femalephysicsadmit/Femalephysics)\n",
    "print(adminrateFPhysics)"
   ]
  },
  {
   "cell_type": "code",
   "execution_count": 173,
   "metadata": {},
   "outputs": [
    {
     "name": "stdout",
     "output_type": "stream",
     "text": [
      "0.5155555555555555\n"
     ]
    }
   ],
   "source": [
    "# Admission rate for male physics majors\n",
    "adminrateMPhysics=(Malephysicsadmit/Malephysics)\n",
    "print(adminrateMPhysics)"
   ]
  },
  {
   "cell_type": "markdown",
   "metadata": {},
   "source": [
    "### Proportion and admission rate for chemistry majors of each gender"
   ]
  },
  {
   "cell_type": "code",
   "execution_count": 176,
   "metadata": {},
   "outputs": [
    {
     "name": "stdout",
     "output_type": "stream",
     "text": [
      "0.8793774319066148\n"
     ]
    }
   ],
   "source": [
    "# What proportion of female students are majoring in chemistry?\n",
    "portionoffemaleswithChemistry=(Femalechemistry/femalecount)\n",
    "print(portionoffemaleswithChemistry)"
   ]
  },
  {
   "cell_type": "code",
   "execution_count": 181,
   "metadata": {},
   "outputs": [
    {
     "name": "stdout",
     "output_type": "stream",
     "text": [
      "0.07407407407407407\n"
     ]
    }
   ],
   "source": [
    "# What proportion of male students are majoring in chemistry?\n",
    "portionofMaleswithChemistry=(MaleChemistry/malecount)\n",
    "print(portionofMaleswithChemistry)"
   ]
  },
  {
   "cell_type": "code",
   "execution_count": 186,
   "metadata": {},
   "outputs": [
    {
     "name": "stdout",
     "output_type": "stream",
     "text": [
      "0.22566371681415928\n"
     ]
    }
   ],
   "source": [
    "# Admission rate for female chemistry majors\n",
    "adminrateFChemistry=(Femalechemistryadmit/Femalechemistry)\n",
    "print(adminrateFChemistry)"
   ]
  },
  {
   "cell_type": "code",
   "execution_count": 187,
   "metadata": {},
   "outputs": [
    {
     "name": "stdout",
     "output_type": "stream",
     "text": [
      "0.1111111111111111\n"
     ]
    }
   ],
   "source": [
    "# Admission rate for male chemistry majors\n",
    "adminrateMChemistry=(Malechemistryadmit/MaleChemistry)\n",
    "print(adminrateMChemistry)"
   ]
  },
  {
   "cell_type": "markdown",
   "metadata": {},
   "source": [
    "### Admission rate for each major"
   ]
  },
  {
   "cell_type": "code",
   "execution_count": 196,
   "metadata": {},
   "outputs": [
    {
     "name": "stdout",
     "output_type": "stream",
     "text": [
      "Admission Rate for Physics : 0.54296875\n"
     ]
    }
   ],
   "source": [
    "# Admission rate for physics majors\n",
    "AdmissionRateforPhysics=len(df[(df['major'] == 'Physics') & df['admitted']]) / len(df[(df['major'] == 'Physics')])\n",
    "\n",
    "print(\"Admission Rate for Physics : \"+str(AdmissionRateforPhysics))\n",
    "\n"
   ]
  },
  {
   "cell_type": "code",
   "execution_count": 195,
   "metadata": {},
   "outputs": [
    {
     "name": "stdout",
     "output_type": "stream",
     "text": [
      "Admission Rate for Chemistry : 0.21721311475409835\n"
     ]
    }
   ],
   "source": [
    "# Admission rate for chemistry majors\n",
    "AdmissionrateforChemistry=len(df[(df['major'] == 'Chemistry') & df['admitted']]) / len(df[(df['major'] == 'Chemistry')])\n",
    "print(\"Admission Rate for Chemistry : \"+str(AdmissionrateforChemistry))\n"
   ]
  },
  {
   "cell_type": "code",
   "execution_count": null,
   "metadata": {},
   "outputs": [],
   "source": []
  }
 ],
 "metadata": {
  "kernelspec": {
   "display_name": "Python 3",
   "language": "python",
   "name": "python3"
  },
  "language_info": {
   "codemirror_mode": {
    "name": "ipython",
    "version": 3
   },
   "file_extension": ".py",
   "mimetype": "text/x-python",
   "name": "python",
   "nbconvert_exporter": "python",
   "pygments_lexer": "ipython3",
   "version": "3.6.3"
  }
 },
 "nbformat": 4,
 "nbformat_minor": 2
}
