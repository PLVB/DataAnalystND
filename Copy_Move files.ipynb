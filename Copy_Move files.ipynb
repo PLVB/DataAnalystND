{
 "cells": [
  {
   "cell_type": "code",
   "execution_count": 6,
   "metadata": {},
   "outputs": [],
   "source": [
    "## Copying the file from one location to other\n",
    "import shutil, os\n",
    "files = ['C:\\Pal\\Pallavi.jpg']\n",
    "for f in files:\n",
    "    shutil.copy(f, 'C:\\Pal\\General')    "
   ]
  },
  {
   "cell_type": "code",
   "execution_count": 8,
   "metadata": {},
   "outputs": [],
   "source": [
    "## Moving the file from one location to other\n",
    "import shutil, os\n",
    "files = ['C:\\Pal\\Pallavi.jpg']\n",
    "for f in files:\n",
    "    shutil.move(f, 'C:\\Pal\\General\\Docs')"
   ]
  },
  {
   "cell_type": "code",
   "execution_count": 9,
   "metadata": {},
   "outputs": [],
   "source": [
    "## Copying the files from one location to other\n",
    "import shutil, os\n",
    "files = ['C:\\Pal\\Pallavi.jpg','C:\\Pal\\Questions.txt' ]\n",
    "for f in files:\n",
    "    shutil.copy(f, 'C:\\Pal\\General\\Docs') "
   ]
  },
  {
   "cell_type": "code",
   "execution_count": 13,
   "metadata": {},
   "outputs": [],
   "source": [
    "## Moving the files from one location to other\n",
    "## Removing the files before moving\n",
    "import shutil, os\n",
    "os.remove('C:\\Pal\\General\\Docs\\Pallavi.jpg')\n",
    "os.remove('C:\\Pal\\General\\Docs\\Questions.txt')\n",
    "files = ['C:\\Pal\\Pallavi.jpg','C:\\Pal\\Questions.txt' ]\n",
    "for f in files:\n",
    "    shutil.move(f, 'C:\\Pal\\General\\Docs')\n",
    "    "
   ]
  },
  {
   "cell_type": "code",
   "execution_count": 3,
   "metadata": {},
   "outputs": [],
   "source": [
    "import shutil\n",
    "import os\n",
    "src = 'C:\\Test1'\n",
    "dst = 'C:\\Test2'\n",
    "filelist = []\n",
    "\n",
    "files = os.listdir( src )\n",
    "for filename in files:\n",
    " filelist.append(filename)\n",
    " fullpath = src + '/' + filename\n",
    " shutil.move(os.path.join(src, filename), os.path.join(dst, filename))\n"
   ]
  },
  {
   "cell_type": "code",
   "execution_count": null,
   "metadata": {},
   "outputs": [],
   "source": []
  }
 ],
 "metadata": {
  "kernelspec": {
   "display_name": "Python 3",
   "language": "python",
   "name": "python3"
  },
  "language_info": {
   "codemirror_mode": {
    "name": "ipython",
    "version": 3
   },
   "file_extension": ".py",
   "mimetype": "text/x-python",
   "name": "python",
   "nbconvert_exporter": "python",
   "pygments_lexer": "ipython3",
   "version": "3.7.1"
  }
 },
 "nbformat": 4,
 "nbformat_minor": 2
}
